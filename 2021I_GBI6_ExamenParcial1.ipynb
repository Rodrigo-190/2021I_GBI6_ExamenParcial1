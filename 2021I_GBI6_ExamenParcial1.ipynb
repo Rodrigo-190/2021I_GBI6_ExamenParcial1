{
 "cells": [
  {
   "cell_type": "markdown",
   "metadata": {},
   "source": [
    "<img src=\"https://www.ikiam.edu.ec/img/logo-ikiam-grey.png\" width=300 height=240 />\n",
    "\n",
    "# EXAMEN PARCIAL 1\n",
    "\n",
    "## GBI6-2021II: BIOINFORMÁTICA\n",
    "\n",
    "**Arnoldd Hernandez** \n",
    "\n",
    "**11-01-2021**"
   ]
  },
  {
   "cell_type": "markdown",
   "metadata": {},
   "source": [
    "<font color='red'>NO AGREGUE NUEVAS CELDAS, UTILICE ÚNICAMENTE LAS QUE ESTÁN CREADAS</font>"
   ]
  },
  {
   "cell_type": "markdown",
   "metadata": {},
   "source": [
    "# 1. UNIX\n",
    "\n",
    "## Ejercicio 1\n",
    "-Imprimir el directorio de trabajo actual \n",
    "-Crear un directorio test1\n",
    "-No cambie de directorio, pero los items 4, 5 y 6 deben guardarse en el directorio creado en el paso 2. \n",
    "-Crear el archivo test1.txt\n",
    "-Guardar el texto Hola GBI6 en un archivo test2.txt\n",
    "-Guardar la instrucción print(\"Hola GBI6\")  en el archivo test1.py\n",
    "\n",
    "![Pregunta 1](https://user-images.githubusercontent.com/72926761/149632978-3239adcc-9d88-486b-b634-615e8fc88c2e.png)\n",
    "\n",
    "Escriba aquí alguna explicación del ejercicio 1 si lo considera necesario (borre esta línea cuando finalice)\n",
    "\n",
    "## Ejercicio 2\n",
    "Imprimir el directorio de trabajo actual \n",
    "-Crear un directorio test1\n",
    "-No cambie de directorio, pero los items 4, 5 y 6 deben guardarse en el directorio creado en el paso 2. \n",
    "-Crear el archivo test1.txt\n",
    "-Guardar el texto Hola GBI6 en un archivo test2.txt\n",
    "-Guardar la instrucción print(\"Hola GBI6\")  en el archivo test1.py\n",
    "\n",
    "![Pregunta 2 1](https://user-images.githubusercontent.com/72926761/149633017-c4fd0b14-f659-47d5-9fe2-9456f0730f96.png)\n",
    "\n",
    "\n",
    "![Pregunta 2](https://user-images.githubusercontent.com/72926761/149633018-ee0b198e-7fae-4050-99aa-c7040928b493.png)\n",
    "Escriba aquí alguna explicación del ejercicio 2 si lo considera necesario (borre esta línea cuando finalice)\n",
    "\n",
    "## Ejercicio 3\n",
    "Buzzard et al. (2016) recolectaron datos sobre el crecimiento de un bosque en Costa Rica. En el\n",
    "archivoBuzzard2015_data.csv encontrará un subconjunto de sus datos, incluida la información\n",
    "taxonómica, la abundancia y la biomasa de los árboles.\n",
    "1. Escriba un script que, para un archivo CSV y un número de columna determinados, imprima\n",
    "● el nombre de la columna correspondiente;\n",
    "● el número de valores distintos en la columna;\n",
    "● el valor mínimo;\n",
    "● el valor máximo\n",
    "\n",
    "![ejericio 4](https://user-images.githubusercontent.com/72926761/149633299-9a20c730-1520-43bf-9e03-81237fd0c423.png)\n",
    "\n",
    "\n",
    "Escriba aquí alguna explicación del ejercicio 3 si lo considera necesario (borre esta línea cuando finalice)\n",
    "\n",
    "## Ejercicio 4\n",
    "Gesquière et al. (2011) estudiaron los niveles hormonales en la sangre de los babuinos. Cada\n",
    "individuo fue muestreado varias veces.\n",
    "1. ¿Cuántas veces se registraron los niveles de los individuos 3 y 27?\n",
    "2. Escribir un script tomando como entrada el nombre del archivo y el ID de la\n",
    "persona, y devolviendo el número de registros para ese ID\n",
    "\n",
    "![ejericio 4](https://user-images.githubusercontent.com/72926761/149633299-9a20c730-1520-43bf-9e03-81237fd0c423.png)\n"
   ]
  },
  {
   "cell_type": "code",
   "execution_count": 1,
   "metadata": {},
   "outputs": [
    {
     "name": "stderr",
     "output_type": "stream",
     "text": [
      "C:\\Users\\rodri\\AppData\\Local\\Packages\\PythonSoftwareFoundation.Python.3.9_qbz5n2kfra8p0\\LocalCache\\local-packages\\Python39\\site-packages\\IPython\\core\\display.py:414: UserWarning: Consider using IPython.display.IFrame instead\n",
      "  warnings.warn(\"Consider using IPython.display.IFrame instead\")\n"
     ]
    },
    {
     "data": {
      "text/html": [
       "<iframe width=\"560\" height=\"315\" src=\"https://www.youtube.com/embed/YZ2cuMBLetM\" title=\"YouTube video player\" frameborder=\"0\" allow=\"accelerometer; autoplay; clipboard-write; encrypted-media; gyroscope; picture-in-picture\" allowfullscreen></iframe>"
      ],
      "text/plain": [
       "<IPython.core.display.HTML object>"
      ]
     },
     "execution_count": 1,
     "metadata": {},
     "output_type": "execute_result"
    }
   ],
   "source": [
    "# Coloque aquí su video del ejercicio 4\n",
    "from IPython.display import HTML\n",
    "HTML('<iframe width=\"560\" height=\"315\" src=\"https://www.youtube.com/embed/YZ2cuMBLetM\" title=\"YouTube video player\" frameborder=\"0\" allow=\"accelerometer; autoplay; clipboard-write; encrypted-media; gyroscope; picture-in-picture\" allowfullscreen></iframe>')\n"
   ]
  },
  {
   "cell_type": "markdown",
   "metadata": {},
   "source": [
    "\n",
    "## Ejercicio 5\n",
    "Buzzard et al. (2016) recolectaron datos sobre el crecimiento de un bosque en Costa Rica. En el\n",
    "archivoBuzzard2015_data.csv encontrará un subconjunto.\n",
    "Escriba un script que, para un archivo CSV y un número de columna determinados, imprima\n",
    "● el nombre de la columna correspondiente;\n",
    "● el número de valores distintos en la columna;\n",
    "● el valor mínimo;\n",
    "● el valor máximo."
   ]
  },
  {
   "cell_type": "code",
   "execution_count": 5,
   "metadata": {},
   "outputs": [
    {
     "data": {
      "text/html": [
       "<iframe width=\"560\" height=\"315\" src=\"https://www.youtube.com/embed/3XlZWpLwvvo\" title=\"YouTube video player\" frameborder=\"0\" allow=\"accelerometer; autoplay; clipboard-write; encrypted-media; gyroscope; picture-in-picture\" allowfullscreen></iframe>"
      ],
      "text/plain": [
       "<IPython.core.display.HTML object>"
      ]
     },
     "execution_count": 5,
     "metadata": {},
     "output_type": "execute_result"
    }
   ],
   "source": [
    "# Coloque aquí su video del ejercicio 5\n",
    "from IPython.display import HTML\n",
    "HTML('<iframe width=\"560\" height=\"315\" src=\"https://www.youtube.com/embed/fWJifuxNUzY\" title=\"YouTube video player\" frameborder=\"0\" allow=\"accelerometer; autoplay; clipboard-write; encrypted-media; gyroscope; picture-in-picture\" allowfullscreen></iframe>')\n"
   ]
  },
  {
   "cell_type": "markdown",
   "metadata": {
    "jp-MarkdownHeadingCollapsed": true,
    "tags": []
   },
   "source": [
    "Escriba aquí alguna explicación del ejercicio 5 si lo considera necesario (borre esta línea cuando finalice)\n",
    "\n",
    "# 2. CONTROL DE LA VERSIÓN\n",
    "## Pregunta 6\n",
    "1. Cree en GitHub un repositorio de nombre ```GBI6_ExamenParcial1```. \n",
    "2. Cree un archivo ```Readme.md``` que debe tener lo siguiente: \n",
    "- Datos personales\n",
    "- Características del computador\n",
    "- Programas utilizados\n",
    "- Explicación de la data utilizada\n",
    "\n",
    "\n",
    "## Pregunta 7\n",
    "1. Cada vez que resuelva un ejercicio (del 1 al 10), utilizando Git Bash, GitHub Desktop o Atom realice un *git push* con el mensaje: \n",
    "\n",
    "\n",
    "<font color='red'>Apellido Nombre ha resuelto el ejercicio 1</font> % Cambie con sus apellidos y nombres; y con el número de ejercicio que corresponda \n",
    "\n",
    "2. Coloque aquí las capturas de pantalla para cada git push realizado desde Git Bash, GitHub Desktop o Atom. \n",
    "\n",
    "- Control de versión ejercicio 1\n",
    "\n",
    "![pregunta1 1](https://user-images.githubusercontent.com/72926761/149632998-4157a4e0-2b19-4af8-95ef-0e6ac0015c1f.png)\n",
    "\n",
    "- Control de versión ejercicio 2\n",
    "\n",
    "\n",
    "![Pregunta 2](https://user-images.githubusercontent.com/72926761/149633018-ee0b198e-7fae-4050-99aa-c7040928b493.png)\n",
    "- Control de versión ejercicio 3\n",
    "\n",
    "![Captura de pantalla 2022-01-15 114638](https://user-images.githubusercontent.com/72926761/149633153-2ee19b1f-4692-4045-93d5-a50228caf428.png)\n",
    "- Control de versión ejercicio 4\n",
    "\n",
    "![Captura de pantalla 2022-01-15 114638](https://user-images.githubusercontent.com/72926761/149633153-2ee19b1f-4692-4045-93d5-a50228caf428.png)\n",
    "- Control de versión ejercicio 5\n",
    "\n",
    "![Captura de pantalla 2022-01-15 114547](https://user-images.githubusercontent.com/72926761/149633171-178486b0-3bbb-43b3-8394-aaa585045b89.png)\n",
    "\n",
    "- Control de versión ejercicio 8\n",
    "\n",
    "![Captura de pantalla 2022-01-15 125736](https://user-images.githubusercontent.com/72926761/149633190-ae33a01f-479a-415d-98a8-327bc814c35e.png)\n",
    "\n",
    "- Control de versión ejercicio 9\n",
    "\n",
    "![Captura de pantalla 2022-01-15 125954](https://user-images.githubusercontent.com/72926761/149633202-10c242ff-df61-47a3-8af8-e3d6b4890650.png)\n",
    "\n",
    "\n",
    "\n",
    "\n",
    "3. Cree un directorio de nombre ```data``` donde deben estar guardados: (i) la data utilizada y (ii) las capturas de pantalla de los ejercicios 1 al 3 y los git push del ejercicio 1 al 10 (en total debe tener 13 imágenes). \n",
    "4. Inserte aquí el enlace de su repositorio (válido para el ejercicio 6 y 7): [GitHub Repository: GBI6_ExamenParcial1]((https://github.com/Rodrigo-190/2021I_GBI6_ExamenParcial1.git)"
   ]
  },
  {
   "cell_type": "code",
   "execution_count": null,
   "metadata": {},
   "outputs": [],
   "source": []
  },
  {
   "cell_type": "markdown",
   "metadata": {},
   "source": [
    "# 3. INTRODUCCIÓN A PYTHON\n",
    "\n",
    "## Ejercicio 8\n",
    "\n",
    "Escriba aquí el enunciado"
   ]
  },
  {
   "cell_type": "code",
   "execution_count": null,
   "metadata": {},
   "outputs": [],
   "source": [
    "lista1 = [ \"a\" , \"b\" , \"c\", \"d\", \"e\", \"f\" , \"g\" ,\"h\" , \"i\" , \"j\"]\n",
    "lista1\n",
    "\n",
    "lista1[0]"
   ]
  },
  {
   "cell_type": "code",
   "execution_count": null,
   "metadata": {},
   "outputs": [],
   "source": [
    "lista1.append([\"gbi6\", \"bio1\", \"ikiam\"])\n",
    "len(lista1)"
   ]
  },
  {
   "cell_type": "code",
   "execution_count": null,
   "metadata": {},
   "outputs": [],
   "source": [
    "lista1.append([\"gbi6\", \"bio1\", \"ikiam\"])\n",
    "lista1[-1][-1]"
   ]
  },
  {
   "cell_type": "code",
   "execution_count": null,
   "metadata": {},
   "outputs": [],
   "source": [
    "lista1[2:5]"
   ]
  },
  {
   "cell_type": "markdown",
   "metadata": {},
   "source": [
    "## Ejercicio 9\n",
    "\n",
    "Escriba aquí el enunciado"
   ]
  },
  {
   "cell_type": "code",
   "execution_count": null,
   "metadata": {},
   "outputs": [],
   "source": [
    "# Escriba aquí el códiglista1 = [\"Mazda RX4\", \"Mazda RX4 Wag\", \"Datsun 710\", \"Hornet 4 Drive\",\"Hornet Sportabout\"\n",
    "          , \"Valiant Duster 360\" , \"Merc 240D\", \"Merc 230\" , \"Merc 280\"]\n",
    "print(lista1)o\n"
   ]
  },
  {
   "cell_type": "code",
   "execution_count": null,
   "metadata": {},
   "outputs": [],
   "source": [
    "lista1[4]\n",
    "\n",
    "lista1.append([\"gbi6\", \"bio1\", \"ikiam\"])\n",
    "lista1[-1][-3]"
   ]
  },
  {
   "cell_type": "code",
   "execution_count": null,
   "metadata": {},
   "outputs": [],
   "source": [
    "lista1.append([\"gbi6\", \"bio1\", \"ikiam\"])\n",
    "len(lista1)"
   ]
  },
  {
   "cell_type": "code",
   "execution_count": null,
   "metadata": {},
   "outputs": [],
   "source": [
    "lista1[3]"
   ]
  },
  {
   "cell_type": "markdown",
   "metadata": {},
   "source": [
    "## Ejercicio 10\n",
    "\n",
    "Escriba aquí el enunciado"
   ]
  },
  {
   "cell_type": "code",
   "execution_count": 2,
   "metadata": {},
   "outputs": [
    {
     "name": "stdout",
     "output_type": "stream",
     "text": [
      "{'AA': ['Trp', 'Cys', 'His', 'Arg', 'Met', 'Tyr', 'Gln', 'Phe', 'Asp', 'Pro', 'Ala', 'Asn', 'Lys', 'Glu', 'Gly', 'Thr', 'Val', 'Ile', 'Ser', 'Leu'], 'Hits': [5.06, 6.21, 5.52, 10.08, 3.59, 4.97, 5.96, 5.27, 5.51, 5.21, 6.58, 3.59, 4.45, 4.79, 4.52, 3.74, 3, 99, 3.37, 3.93, 3.67], '%Abundance': [1.34, 1.76, 2.26, 5.2, 2.32, 3.25, 3.96, 4.12, 5.12, 5.0, 7.34, 4.57, 5.81, 6.22, 6.89, 5.85, 6.48, 5.76, 7.38, 9.36]}\n"
     ]
    }
   ],
   "source": [
    "# Escriba a#AA = [\"Trp\",\"Cys\",\"His\",\"Arg\",\"Met\",\"Tyr\",\"Gln\",\"Phe\",\"Asp\",\"Pro\",\"Ala\",\n",
    "         #  \"Asn\",\"Lys\",\"Glu\",\"Gly\",\"Thr\",\"Val\",\"Ile\",\"Ser\",\"Leu\"]\n",
    "##Hits = [\"5.06\",\"6.21\",\"5.52\",\"10.08\",\"3.59\",\"4.97\",\"5.96\",\"5.27\",\"5.51\",\"5.21\",\n",
    "          ##  \"6.58\",\"3.59\",\"4.45\",\"4.79\",\"4.52\",\"3.74\",\"3,99\",\"3.37\",\"3.93\",\"3.67\"]\n",
    "##Abundance = [\"1.34\",\"1.76\",\"2.26\",\"5.2\",\"2.32\",\"3.25\",\"3.96\",\"4.12\",\"5.12\",\"5.00\",\"7.34\",\"4.57\",\"5.81\",\"6.22\",\"6.89\",\n",
    "           ##  \"5.85\",\"6.48\",\"5.76\",\"7.38\",\"9.36\"]\n",
    "dic_aminoacidos = {\n",
    "    \"AA\" : [\"Trp\", \"Cys\", \"His\", \"Arg\",\"Met\",\"Tyr\",\"Gln\",\"Phe\",\"Asp\",\"Pro\",\"Ala\", \"Asn\",\"Lys\",\"Glu\",\"Gly\",\"Thr\",\"Val\",\"Ile\",\"Ser\",\"Leu\"]\n",
    "    ,\"Hits\":[5.06,6.21,5.52,10.08,3.59,4.97,5.96,5.27,5.51,5.21,6.58,3.59,4.45,4.79,4.52,3.74,3,99,3.37,3.93,3.67]\n",
    "    ,\"%Abundance\": [1.34,1.76,2.26,5.2,2.32,3.25,3.96,4.12,5.12,5.00,7.34,4.57,5.81,6.22,6.89,5.85,6.48,5.76,7.38,9.36]\n",
    "}\n",
    "print(dic_aminoacidos)\n"
   ]
  },
  {
   "cell_type": "code",
   "execution_count": null,
   "metadata": {},
   "outputs": [],
   "source": [
    "key = dic_aminoacidos.key()\n",
    "print(key)\n",
    "\n",
    "values = dic_aminoacidos.values()\n",
    "\n",
    "print(values)"
   ]
  },
  {
   "cell_type": "code",
   "execution_count": null,
   "metadata": {},
   "outputs": [],
   "source": [
    "aminoacidos = [key]\n",
    "print(aminoacidos)"
   ]
  },
  {
   "cell_type": "code",
   "execution_count": null,
   "metadata": {},
   "outputs": [],
   "source": [
    "propiedades =  values\n",
    "print(values)"
   ]
  }
 ],
 "metadata": {
  "kernelspec": {
   "display_name": "Python 3 (ipykernel)",
   "language": "python",
   "name": "python3"
  },
  "language_info": {
   "codemirror_mode": {
    "name": "ipython",
    "version": 3
   },
   "file_extension": ".py",
   "mimetype": "text/x-python",
   "name": "python",
   "nbconvert_exporter": "python",
   "pygments_lexer": "ipython3",
   "version": "3.9.9"
  },
  "latex_envs": {
   "LaTeX_envs_menu_present": true,
   "autoclose": false,
   "autocomplete": true,
   "bibliofile": "biblio.bib",
   "cite_by": "apalike",
   "current_citInitial": 1,
   "eqLabelWithNumbers": true,
   "eqNumInitial": 1,
   "hotkeys": {
    "equation": "Ctrl-E",
    "itemize": "Ctrl-I"
   },
   "labels_anchors": false,
   "latex_user_defs": false,
   "report_style_numbering": false,
   "user_envs_cfg": false
  },
  "toc": {
   "base_numbering": 1,
   "nav_menu": {},
   "number_sections": true,
   "sideBar": false,
   "skip_h1_title": false,
   "title_cell": "Table of Contents",
   "title_sidebar": "Contents",
   "toc_cell": false,
   "toc_position": {
    "height": "1152.67px",
    "left": "41px",
    "top": "110px",
    "width": "253.458px"
   },
   "toc_section_display": true,
   "toc_window_display": false
  },
  "varInspector": {
   "cols": {
    "lenName": 16,
    "lenType": 16,
    "lenVar": 40
   },
   "kernels_config": {
    "python": {
     "delete_cmd_postfix": "",
     "delete_cmd_prefix": "del ",
     "library": "var_list.py",
     "varRefreshCmd": "print(var_dic_list())"
    },
    "r": {
     "delete_cmd_postfix": ") ",
     "delete_cmd_prefix": "rm(",
     "library": "var_list.r",
     "varRefreshCmd": "cat(var_dic_list()) "
    }
   },
   "types_to_exclude": [
    "module",
    "function",
    "builtin_function_or_method",
    "instance",
    "_Feature"
   ],
   "window_display": false
  }
 },
 "nbformat": 4,
 "nbformat_minor": 4
}
